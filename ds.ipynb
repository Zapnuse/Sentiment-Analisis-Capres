from google.colab import drive
pip install vaderSentiment
import re   
import seaborn as sns
import matplotlib.pyplot as plt
import pandas as pd
from nltk.tokenize import word_tokenize
from nltk.stem import PorterStemmer
from nltk.stem import WordNetLemmatizer
from nltk.corpus import stopwords
from sklearn.feature_extraction.text import CountVectorizer
from vaderSentiment.vaderSentiment import SentimentIntensityAnalyzer
from sklearn.model_selection import train_test_split
df = pd.read_csv('/content/drive/MyDrive/Keilmuan data/dataset_anies.csv')
df.head()

#from Sastrawi.Stemmer.StemmerFactory import StemmerFactory
#from Sastrawi.StopWordRemover.StopWordRemoverFactory import StopWordRemoverFactory, StopWordRemover, ArrayDictionary
import numpy as np
import nltk
from nltk.tokenize import word_tokenize
nltk.download('punkt')



def Preprocessing(input):
    
    case_folding = input.lower()

    keep_word = re.sub(r"\d+", " ",case_folding)
    
    punctuation = re.sub(r'[^\w\s]','',keep_word)
    whitespace = re.sub('\s+',' ',punctuation)  
    single_char = re.sub(r"\b[a-zA-Z]\b", "", whitespace)
    # menghapus emoticon yg terdapat pada kata
    rem_emoticon = single_char.encode('ascii', 'replace').decode('ascii')
    # proses tokenize
    tokens = nltk.tokenize.word_tokenize(rem_emoticon)
    stop = [word ]
    
    # Determine tweet sentiment
analyzer = SentimentIntensityAnalyzer()

# Create a compound column with Vader
df['compound'] = df['full_text'].apply(lambda x: analyzer.polarity_scores(x)['compound'])

# Increase readability
df['sentiment'] = df['compound'].map(lambda x: "neutral" if x > 0.05 and x < 0.05 else("positive" if x >= 0.05 else "negative"))

# Get the number of words per tweet
df['number_of_words'] = df['full_text'].apply(lambda x: len(str(x).split(" ")))

df.head()

positive_tweets = df.loc[df.compound >= 0.05]
percentage_positive = (len(positive_tweets) / len(df.compound)) * 100

negative_tweets = df.loc[df.compound <= 0.05]
percentage_negative = (len(negative_tweets) / len(df.compound)) * 100

neutral_tweets = df.loc[(df.compound > 0.05) & (df.compound < 0.05)]
percentage_neutral = (len(neutral_tweets) / len(df.compound)) * 100

print(f"Percentage of positive tweets: {round(percentage_positive, 2)}")
print(f"Percentage of negative tweets: {round(percentage_negative, 2)}")
print(f"Percentage of netural tweets: {round(percentage_neutral, 2)}")
    
